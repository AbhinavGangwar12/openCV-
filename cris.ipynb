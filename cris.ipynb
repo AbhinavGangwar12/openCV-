{
 "cells": [
  {
   "cell_type": "code",
   "execution_count": 19,
   "id": "ac44219b",
   "metadata": {},
   "outputs": [],
   "source": [
    "import cv2\n",
    "import numpy as np"
   ]
  },
  {
   "cell_type": "code",
   "execution_count": 20,
   "id": "ea324b9a",
   "metadata": {},
   "outputs": [
    {
     "name": "stderr",
     "output_type": "stream",
     "text": [
      "<>:2: SyntaxWarning: invalid escape sequence '\\c'\n",
      "<>:2: SyntaxWarning: invalid escape sequence '\\c'\n",
      "C:\\Users\\abhi1\\AppData\\Local\\Temp\\ipykernel_17184\\4267451985.py:2: SyntaxWarning: invalid escape sequence '\\c'\n",
      "  cap = cv2.VideoCapture('images\\cris.mp4')\n"
     ]
    }
   ],
   "source": [
    "# Load the video\n",
    "cap = cv2.VideoCapture('images\\cris.mp4')\n",
    "\n",
    "# Check if video loaded successfully\n",
    "if not cap.isOpened():\n",
    "    print(\"Error: Could not open video.\")\n",
    "    exit()"
   ]
  },
  {
   "cell_type": "code",
   "execution_count": 21,
   "id": "b4991d54",
   "metadata": {},
   "outputs": [
    {
     "name": "stderr",
     "output_type": "stream",
     "text": [
      "<>:8: SyntaxWarning: invalid escape sequence '\\c'\n",
      "<>:8: SyntaxWarning: invalid escape sequence '\\c'\n",
      "C:\\Users\\abhi1\\AppData\\Local\\Temp\\ipykernel_17184\\2164143902.py:8: SyntaxWarning: invalid escape sequence '\\c'\n",
      "  out = cv2.VideoWriter('output_videos\\cris_edge.mp4', fourcc, fps, (width * 2, height))\n"
     ]
    }
   ],
   "source": [
    "# Get video properties\n",
    "width  = int(cap.get(cv2.CAP_PROP_FRAME_WIDTH))\n",
    "height = int(cap.get(cv2.CAP_PROP_FRAME_HEIGHT))\n",
    "fps    = cap.get(cv2.CAP_PROP_FPS)\n",
    "\n",
    "# Define the codec and create VideoWriter object\n",
    "fourcc = cv2.VideoWriter_fourcc(*'mp4v')\n",
    "out = cv2.VideoWriter('output_videos\\cris_edge.mp4', fourcc, fps, (width * 2, height))"
   ]
  },
  {
   "cell_type": "code",
   "execution_count": 22,
   "id": "096c2069",
   "metadata": {},
   "outputs": [],
   "source": [
    "# Create window\n",
    "cv2.namedWindow(\"Edge Detection with Trackbars\")\n",
    "\n",
    "# Trackbar callback (dummy)\n",
    "def nothing(x):\n",
    "    pass\n",
    "\n",
    "# Create trackbars for threshold adjustments\n",
    "cv2.createTrackbar(\"Threshold1\", \"Edge Detection with Trackbars\", 50, 500, nothing)\n",
    "cv2.createTrackbar(\"Threshold2\", \"Edge Detection with Trackbars\", 150, 500, nothing)"
   ]
  },
  {
   "cell_type": "code",
   "execution_count": 23,
   "id": "5c5a1122",
   "metadata": {},
   "outputs": [],
   "source": [
    "while True:\n",
    "    ret, frame = cap.read()\n",
    "\n",
    "    if not ret:\n",
    "        cap.set(cv2.CAP_PROP_POS_FRAMES, 0)\n",
    "        continue\n",
    "\n",
    "    # Convert to grayscale and blur\n",
    "    gray = cv2.cvtColor(frame, cv2.COLOR_BGR2GRAY)\n",
    "    blurred = cv2.GaussianBlur(gray, (5, 5), 1.4)\n",
    "\n",
    "    # Get values from trackbars\n",
    "    t1 = cv2.getTrackbarPos(\"Threshold1\", \"Edge Detection with Trackbars\")\n",
    "    t2 = cv2.getTrackbarPos(\"Threshold2\", \"Edge Detection with Trackbars\")\n",
    "\n",
    "    # Canny Edge Detection\n",
    "    edges = cv2.Canny(blurred, t1, t2)\n",
    "    edges_colored = cv2.cvtColor(edges, cv2.COLOR_GRAY2BGR)\n",
    "\n",
    "    # Overlay text\n",
    "    font = cv2.FONT_HERSHEY_SIMPLEX\n",
    "    cv2.putText(frame, \"Original\", (10, 30), font, 1, (0, 255, 0), 2)\n",
    "    cv2.putText(edges_colored, \"Edges\", (10, 30), font, 1, (0, 255, 0), 2)\n",
    "    cv2.putText(edges_colored, f\"Threshold1: {t1}\", (10, 70), font, 0.8, (255, 255, 255), 2)\n",
    "    cv2.putText(edges_colored, f\"Threshold2: {t2}\", (10, 100), font, 0.8, (255, 255, 255), 2)\n",
    "\n",
    "    # Combine frames side by side\n",
    "    combined = np.hstack((frame, edges_colored))\n",
    "\n",
    "    # Write and show\n",
    "    out.write(combined)\n",
    "    cv2.imshow(\"Edge Detection with Trackbars\", combined)\n",
    "\n",
    "    if cv2.waitKey(1) & 0xFF == ord('q'):\n",
    "        break"
   ]
  },
  {
   "cell_type": "code",
   "execution_count": 24,
   "id": "e4e5d9d0",
   "metadata": {},
   "outputs": [
    {
     "name": "stdout",
     "output_type": "stream",
     "text": [
      "✅ Edge-detected video saved as 'cris_edge.mp4'\n"
     ]
    }
   ],
   "source": [
    "# Release everything\n",
    "cap.release()\n",
    "out.release()\n",
    "cv2.destroyAllWindows()\n",
    "\n",
    "print(\"✅ Edge-detected video saved as 'cris_edge.mp4'\")\n"
   ]
  }
 ],
 "metadata": {
  "kernelspec": {
   "display_name": "Python 3",
   "language": "python",
   "name": "python3"
  },
  "language_info": {
   "codemirror_mode": {
    "name": "ipython",
    "version": 3
   },
   "file_extension": ".py",
   "mimetype": "text/x-python",
   "name": "python",
   "nbconvert_exporter": "python",
   "pygments_lexer": "ipython3",
   "version": "3.12.9"
  }
 },
 "nbformat": 4,
 "nbformat_minor": 5
}
