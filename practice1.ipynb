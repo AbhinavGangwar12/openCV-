{
 "cells": [
  {
   "cell_type": "code",
   "execution_count": 2,
   "metadata": {},
   "outputs": [
    {
     "name": "stdout",
     "output_type": "stream",
     "text": [
      "Collecting opencv-python\n",
      "  Downloading opencv_python-4.11.0.86-cp37-abi3-win_amd64.whl.metadata (20 kB)\n",
      "Requirement already satisfied: numpy>=1.21.2 in c:\\users\\ruchi\\appdata\\local\\programs\\python\\python312\\lib\\site-packages (from opencv-python) (1.26.2)\n",
      "Downloading opencv_python-4.11.0.86-cp37-abi3-win_amd64.whl (39.5 MB)\n",
      "   ---------------------------------------- 0.0/39.5 MB ? eta -:--:--\n",
      "   ---------------------------------------- 0.0/39.5 MB ? eta -:--:--\n",
      "   ---------------------------------------- 0.0/39.5 MB ? eta -:--:--\n",
      "   ---------------------------------------- 0.3/39.5 MB ? eta -:--:--\n",
      "    --------------------------------------- 0.5/39.5 MB 1.4 MB/s eta 0:00:28\n",
      "    --------------------------------------- 0.8/39.5 MB 931.2 kB/s eta 0:00:42\n",
      "   - -------------------------------------- 1.6/39.5 MB 1.8 MB/s eta 0:00:21\n",
      "   - -------------------------------------- 1.8/39.5 MB 1.9 MB/s eta 0:00:20\n",
      "   -- ------------------------------------- 2.6/39.5 MB 2.0 MB/s eta 0:00:19\n",
      "   --- ------------------------------------ 3.4/39.5 MB 2.4 MB/s eta 0:00:16\n",
      "   ---- ----------------------------------- 4.5/39.5 MB 2.6 MB/s eta 0:00:14\n",
      "   ----- ---------------------------------- 5.2/39.5 MB 2.9 MB/s eta 0:00:12\n",
      "   ------ --------------------------------- 6.8/39.5 MB 3.3 MB/s eta 0:00:11\n",
      "   -------- ------------------------------- 8.4/39.5 MB 3.7 MB/s eta 0:00:09\n",
      "   ---------- ----------------------------- 10.2/39.5 MB 4.1 MB/s eta 0:00:08\n",
      "   ------------ --------------------------- 12.3/39.5 MB 4.5 MB/s eta 0:00:06\n",
      "   -------------- ------------------------- 14.4/39.5 MB 4.9 MB/s eta 0:00:06\n",
      "   --------------- ------------------------ 15.5/39.5 MB 4.9 MB/s eta 0:00:05\n",
      "   ---------------- ----------------------- 16.8/39.5 MB 5.0 MB/s eta 0:00:05\n",
      "   ----------------- ---------------------- 17.6/39.5 MB 5.2 MB/s eta 0:00:05\n",
      "   ------------------- -------------------- 19.7/39.5 MB 5.2 MB/s eta 0:00:04\n",
      "   -------------------- ------------------- 20.2/39.5 MB 5.3 MB/s eta 0:00:04\n",
      "   ---------------------- ----------------- 22.0/39.5 MB 5.3 MB/s eta 0:00:04\n",
      "   ----------------------- ---------------- 23.3/39.5 MB 5.3 MB/s eta 0:00:04\n",
      "   ------------------------- -------------- 25.2/39.5 MB 5.5 MB/s eta 0:00:03\n",
      "   -------------------------- ------------- 26.0/39.5 MB 5.5 MB/s eta 0:00:03\n",
      "   --------------------------- ------------ 27.0/39.5 MB 5.4 MB/s eta 0:00:03\n",
      "   ---------------------------- ----------- 28.6/39.5 MB 5.5 MB/s eta 0:00:02\n",
      "   ------------------------------ --------- 30.4/39.5 MB 5.6 MB/s eta 0:00:02\n",
      "   -------------------------------- ------- 32.5/39.5 MB 5.7 MB/s eta 0:00:02\n",
      "   ---------------------------------- ----- 34.3/39.5 MB 5.9 MB/s eta 0:00:01\n",
      "   ------------------------------------ --- 36.2/39.5 MB 6.0 MB/s eta 0:00:01\n",
      "   -------------------------------------- - 38.3/39.5 MB 6.1 MB/s eta 0:00:01\n",
      "   ---------------------------------------- 39.5/39.5 MB 6.1 MB/s eta 0:00:00\n",
      "Installing collected packages: opencv-python\n",
      "Successfully installed opencv-python-4.11.0.86\n"
     ]
    },
    {
     "name": "stderr",
     "output_type": "stream",
     "text": [
      "\n",
      "[notice] A new release of pip is available: 24.2 -> 25.0.1\n",
      "[notice] To update, run: python.exe -m pip install --upgrade pip\n"
     ]
    }
   ],
   "source": [
    "!pip install opencv-python"
   ]
  },
  {
   "cell_type": "code",
   "execution_count": 3,
   "metadata": {},
   "outputs": [],
   "source": [
    "import cv2"
   ]
  },
  {
   "cell_type": "code",
   "execution_count": 12,
   "metadata": {},
   "outputs": [
    {
     "name": "stderr",
     "output_type": "stream",
     "text": [
      "<>:2: SyntaxWarning: invalid escape sequence '\\M'\n",
      "<>:4: SyntaxWarning: invalid escape sequence '\\M'\n",
      "<>:2: SyntaxWarning: invalid escape sequence '\\M'\n",
      "<>:4: SyntaxWarning: invalid escape sequence '\\M'\n",
      "C:\\Users\\Ruchi\\AppData\\Local\\Temp\\ipykernel_21000\\1636854067.py:2: SyntaxWarning: invalid escape sequence '\\M'\n",
      "  img = cv2.imread('F:\\\\Mystic\\Machine Learning\\OpenCV\\images\\AverageMaleFace.jpg',1)\n",
      "C:\\Users\\Ruchi\\AppData\\Local\\Temp\\ipykernel_21000\\1636854067.py:4: SyntaxWarning: invalid escape sequence '\\M'\n",
      "  img_grey = cv2.imread('F:\\\\Mystic\\Machine Learning\\OpenCV\\images\\AverageMaleFace.jpg',0)\n"
     ]
    }
   ],
   "source": [
    "# normal image\n",
    "img = cv2.imread('F:\\\\Mystic\\Machine Learning\\OpenCV\\images\\AverageMaleFace.jpg',1)\n",
    "# greyscaes image\n",
    "img_grey = cv2.imread('F:\\\\Mystic\\Machine Learning\\OpenCV\\images\\AverageMaleFace.jpg',0)\n",
    "# cv2.imshow('image',img_grey)\n",
    "# cv2.waitKey(0)\n",
    "# cv2.destroyAllWindows()"
   ]
  },
  {
   "cell_type": "code",
   "execution_count": 14,
   "metadata": {},
   "outputs": [],
   "source": [
    "cv2.imshow('image',img_grey)\n",
    "key = cv2.waitKey(0)\n",
    "if key == 27:#27 -> escape key\n",
    "    cv2.destroyAllWindows()\n"
   ]
  },
  {
   "cell_type": "code",
   "execution_count": 15,
   "metadata": {},
   "outputs": [],
   "source": [
    "# video capturing\n",
    "cap = cv2.VideoCapture(0)\n",
    "\n",
    "while True:\n",
    "    ret, frame = cap.read()#ret-stores boolean if any frame is there or not, frame - stores the frames captured from the camera\n",
    "    # cv2.imshow('frame',frame)\n",
    "\n",
    "    # convert the images captured into grey-scale \n",
    "    grey = cv2.cvtColor(frame, cv2.COLOR_BGR2GRAY)\n",
    "    cv2.imshow('frame',grey)\n",
    "\n",
    "    if cv2.waitKey(1) & 0xff == ord('q'):#statement to come out of the loop \n",
    "        break\n",
    "\n",
    "cap.release()#release the variable\n",
    "cv2.destroyAllWindows()"
   ]
  }
 ],
 "metadata": {
  "kernelspec": {
   "display_name": "Python 3",
   "language": "python",
   "name": "python3"
  },
  "language_info": {
   "codemirror_mode": {
    "name": "ipython",
    "version": 3
   },
   "file_extension": ".py",
   "mimetype": "text/x-python",
   "name": "python",
   "nbconvert_exporter": "python",
   "pygments_lexer": "ipython3",
   "version": "3.12.1"
  },
  "orig_nbformat": 4
 },
 "nbformat": 4,
 "nbformat_minor": 2
}
